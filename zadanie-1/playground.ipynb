{
 "cells": [
  {
   "cell_type": "code",
   "execution_count": 3,
   "metadata": {
    "collapsed": true
   },
   "outputs": [],
   "source": [
    "% matplotlib inline\n",
    "import tensorflow as tf\n",
    "import numpy as np\n",
    "from __future__ import print_function\n",
    "import matplotlib.pyplot as plt"
   ]
  },
  {
   "cell_type": "code",
   "execution_count": 11,
   "metadata": {},
   "outputs": [
    {
     "name": "stdout",
     "output_type": "stream",
     "text": [
      "a shape:  [3 3]\n[[ 2.]\n [ 6.]\n [ 2.]]\ns shape:  [3 1]\n"
     ]
    }
   ],
   "source": [
    "tf.reset_default_graph()\n",
    "a_value = [\n",
    "\n",
    "    [3.0, 1.0, 2.0],\n",
    "    [1.0, 13.0, 4.0],\n",
    "    [3.0, 1.0, 2.0]\n",
    "]\n",
    "\n",
    "# a_value = [a_value, a_value]\n",
    "\n",
    "a = tf.placeholder(dtype=tf.float32)\n",
    "s = tf.reduce_mean(a_value, 1, keep_dims=True)\n",
    "with tf.Session() as sess:\n",
    "    print(\"a shape: \", sess.run(tf.shape(a), feed_dict={a: a_value}))\n",
    "    print(sess.run(s, feed_dict={a: a_value}))\n",
    "    print(\"s shape: \", sess.run(tf.shape(s), feed_dict={a: a_value}))"
   ]
  },
  {
   "cell_type": "code",
   "execution_count": null,
   "metadata": {},
   "outputs": [],
   "source": [
    ""
   ]
  }
 ],
 "metadata": {
  "kernelspec": {
   "display_name": "Python 2",
   "language": "python",
   "name": "python2"
  },
  "language_info": {
   "codemirror_mode": {
    "name": "ipython",
    "version": 2.0
   },
   "file_extension": ".py",
   "mimetype": "text/x-python",
   "name": "python",
   "nbconvert_exporter": "python",
   "pygments_lexer": "ipython2",
   "version": "2.7.6"
  }
 },
 "nbformat": 4,
 "nbformat_minor": 0
}