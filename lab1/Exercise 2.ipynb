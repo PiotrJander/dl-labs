{
 "cells": [
  {
   "cell_type": "markdown",
   "metadata": {
    "deletable": true,
    "editable": true
   },
   "source": [
    "# Linear regression \n",
    "\n",
    "In this exercise you will use linear regression to predict flat prices. One more time, training will be handled via gradient descent. Although, contratry to the first exercise, we will now:\n",
    "* have multiple features (i.e. variables used to make the prediction),\n",
    "* employ some basic feature engineering,\n",
    "* work with a different loss function.\n",
    "\n",
    "Let's start with getting the data."
   ]
  },
  {
   "cell_type": "code",
   "execution_count": 1,
   "metadata": {
    "collapsed": false
   },
   "outputs": [
    {
     "name": "stdout",
     "output_type": "stream",
     "text": [
      "--2017-03-07 12:24:20--  https://www.dropbox.com/s/zey0gx91pna8irj/mieszkania.csv?dl=1\n",
      "Resolving www.dropbox.com... 162.125.66.1\n",
      "Connecting to www.dropbox.com|162.125.66.1|:443... connected.\n",
      "HTTP request sent, awaiting response... 302 Found\n",
      "Location: https://dl.dropboxusercontent.com/content_link/Vx2dYQiFb2uLHoyy4y9BRjcEqTsvLM0ihBzeHv7q9SIBFdUeQtHwxmhOiFGwrT9Q/file?dl=1 [following]\n",
      "--2017-03-07 12:24:21--  https://dl.dropboxusercontent.com/content_link/Vx2dYQiFb2uLHoyy4y9BRjcEqTsvLM0ihBzeHv7q9SIBFdUeQtHwxmhOiFGwrT9Q/file?dl=1\n",
      "Resolving dl.dropboxusercontent.com... 162.125.66.6\n",
      "Connecting to dl.dropboxusercontent.com|162.125.66.6|:443... connected.\n",
      "HTTP request sent, awaiting response... 200 OK\n",
      "Length: 6211 (6.1K) [text/csv]\n",
      "Saving to: ‘mieszkania.csv’\n",
      "\n",
      "mieszkania.csv      100%[===================>]   6.07K  --.-KB/s    in 0s      \n",
      "\n",
      "2017-03-07 12:24:22 (152 MB/s) - ‘mieszkania.csv’ saved [6211/6211]\n",
      "\n",
      "--2017-03-07 12:24:22--  https://www.dropbox.com/s/dbrj6sbxb4ayqjz/mieszkania_test.csv?dl=1\n",
      "Resolving www.dropbox.com... 162.125.66.1\n",
      "Connecting to www.dropbox.com|162.125.66.1|:443... connected.\n",
      "HTTP request sent, awaiting response... 302 Found\n",
      "Location: https://dl.dropboxusercontent.com/content_link/rUec0UbUKT1yq5HSU77sFJzgvlfYmwxomMNByWbrKLFVMMNV2dXEbuxZoEO5jnzX/file?dl=1 [following]\n",
      "--2017-03-07 12:24:23--  https://dl.dropboxusercontent.com/content_link/rUec0UbUKT1yq5HSU77sFJzgvlfYmwxomMNByWbrKLFVMMNV2dXEbuxZoEO5jnzX/file?dl=1\n",
      "Resolving dl.dropboxusercontent.com... 162.125.66.6\n",
      "Connecting to dl.dropboxusercontent.com|162.125.66.6|:443... connected.\n",
      "HTTP request sent, awaiting response... 200 OK\n",
      "Length: 6247 (6.1K) [text/csv]\n",
      "Saving to: ‘mieszkania_test.csv’\n",
      "\n",
      "mieszkania_test.csv 100%[===================>]   6.10K  --.-KB/s    in 0s      \n",
      "\n",
      "2017-03-07 12:24:24 (175 MB/s) - ‘mieszkania_test.csv’ saved [6247/6247]\n",
      "\n"
     ]
    }
   ],
   "source": [
    "%matplotlib inline\n",
    "\n",
    "!wget -O mieszkania.csv https://www.dropbox.com/s/zey0gx91pna8irj/mieszkania.csv?dl=1\n",
    "!wget -O mieszkania_test.csv https://www.dropbox.com/s/dbrj6sbxb4ayqjz/mieszkania_test.csv?dl=1"
   ]
  },
  {
   "cell_type": "code",
   "execution_count": 2,
   "metadata": {
    "collapsed": false
   },
   "outputs": [
    {
     "name": "stdout",
     "output_type": "stream",
     "text": [
      "==> mieszkania.csv <==\r\n",
      "m2,dzielnica,ilość_sypialni,ilość_łazienek,rok_budowy,parking_podziemny,cena\r\n",
      "104,mokotowo,2,2,1940,1,780094\r\n",
      "43,ochotowo,1,1,1970,1,346912\r\n",
      "128,grodziskowo,3,2,1916,1,523466\r\n",
      "112,mokotowo,3,2,1920,1,830965\r\n",
      "149,mokotowo,3,3,1977,0,1090479\r\n",
      "80,ochotowo,2,2,1937,0,599060\r\n",
      "58,ochotowo,2,1,1922,0,463639\r\n",
      "23,ochotowo,1,1,1929,0,166785\r\n",
      "40,mokotowo,1,1,1973,0,318849\r\n",
      "\r\n",
      "==> mieszkania_test.csv <==\r\n",
      "m2,dzielnica,ilość_sypialni,ilość_łazienek,rok_budowy,parking_podziemny,cena\r\n",
      "71,wolowo,2,2,1912,1,322227\r\n",
      "45,mokotowo,1,1,1938,0,295878\r\n",
      "38,mokotowo,1,1,1999,1,306530\r\n",
      "70,ochotowo,2,2,1980,1,553641\r\n",
      "136,mokotowo,3,2,1939,1,985348\r\n",
      "128,wolowo,3,2,1983,1,695726\r\n",
      "23,grodziskowo,1,1,1975,0,99751\r\n",
      "117,mokotowo,3,2,1942,0,891261\r\n",
      "65,ochotowo,2,1,2002,1,536499\r\n"
     ]
    }
   ],
   "source": [
    "!head mieszkania.csv mieszkania_test.csv"
   ]
  },
  {
   "cell_type": "code",
   "execution_count": 1,
   "metadata": {
    "collapsed": false
   },
   "outputs": [],
   "source": [
    "import csv\n",
    "from numpy import mean, dot\n",
    "from math import log\n",
    "from pprint import pprint"
   ]
  },
  {
   "cell_type": "code",
   "execution_count": 2,
   "metadata": {
    "collapsed": false
   },
   "outputs": [],
   "source": [
    "data = []\n",
    "with open('mieszkania.csv') as f:\n",
    "    reader = csv.DictReader(f)\n",
    "    for line in reader:\n",
    "        data.append(line)"
   ]
  },
  {
   "cell_type": "markdown",
   "metadata": {},
   "source": [
    "Each row in the data represents a separate property. Our goal is to use the data from `mieszkania.csv` to create a model that can predict a property's price (i.e. `cena`) given its features (i.e. `m2,dzielnica,ilość_sypialni,ilość_łazienek,rok_budowy,parking_podziemny`). \n",
    "\n",
    "From now on, we should interfere only with `mieszkania.csv` (dubbed the training dataset) to make our decisions and create the model. The (only) purpose of `mieszkania_test.csv` is to test our model on **unseen** data.\n",
    "\n",
    "Our predictions should minimize the so-called mean squared logarithmic error:\n",
    "$$\n",
    "MSLE = \\frac{1}{n} \\sum_{i=1}^n (\\log(1+y_i) - \\log(1+p_i))^2,\n",
    "$$\n",
    "where $y_i$ is the ground truth, and $p_i$ is our prediction."
   ]
  },
  {
   "cell_type": "markdown",
   "metadata": {},
   "source": [
    "Let's start with implementing the loss function."
   ]
  },
  {
   "cell_type": "code",
   "execution_count": 13,
   "metadata": {
    "collapsed": false,
    "deletable": true,
    "editable": true
   },
   "outputs": [],
   "source": [
    "def msle(ys, ps):\n",
    "    assert len(ys) == len(ps)\n",
    "    return sum((log(1 + y) - log(1 + p))**2 for (y,p) in zip(ys, ps)) / len(ys)\n",
    "    # return sum((y - p)**2 for (y,p) in zip(ys, ps)) / len(ys)"
   ]
  },
  {
   "cell_type": "markdown",
   "metadata": {},
   "source": [
    "The simplest model is predicting the same constant for each instance. Test your implementation of msle against outputing the mean price."
   ]
  },
  {
   "cell_type": "code",
   "execution_count": 4,
   "metadata": {
    "collapsed": false,
    "deletable": true,
    "editable": true
   },
   "outputs": [
    {
     "name": "stdout",
     "output_type": "stream",
     "text": [
      "0.391525353826\n"
     ]
    }
   ],
   "source": [
    "prices = [int(mieszkanie['cena']) for mieszkanie in data]\n",
    "prices_m = mean(prices)\n",
    "\n",
    "print msle(prices, [prices_m for _ in xrange(len(prices))])"
   ]
  },
  {
   "cell_type": "markdown",
   "metadata": {
    "deletable": true,
    "editable": true
   },
   "source": [
    "Recall that outputing the mean minimzes $MSE$. However, we're now dealing with $MSLE$.\n",
    "\n",
    "Think of a constant that should result in the lowest $MSLE$."
   ]
  },
  {
   "cell_type": "code",
   "execution_count": 5,
   "metadata": {
    "collapsed": false,
    "deletable": true,
    "editable": true
   },
   "outputs": [],
   "source": [
    "#############################################\n",
    "# TODO: Find this constant and compute msle #\n",
    "#############################################"
   ]
  },
  {
   "cell_type": "markdown",
   "metadata": {
    "deletable": true,
    "editable": true
   },
   "source": [
    "Now, let's implement a standard linear regression model. "
   ]
  },
  {
   "cell_type": "code",
   "execution_count": 14,
   "metadata": {
    "collapsed": false,
    "deletable": true,
    "editable": true
   },
   "outputs": [
    {
     "name": "stdout",
     "output_type": "stream",
     "text": [
      "[0, 0, 0, 0, 0, 0, 0, 0, 0, 0]\n",
      "331792609839\n",
      "[499954.52180000005, 11830.43455, 9537.936450000001, 9980354.67145, 2576.22815, 753.53485, 1574.0124, 1192.71235, 1558.9353, 5079.1949]\n",
      "3.84939359787e+20\n",
      "[-15733531418.658009, -390873477.5410344, -318267503.45426124, -384908003060.64294, -97071895.744385839, -45961904.148415886, -52967252.226534843, -48960585.04739365, -48280058.469987519, -196169799.89233193]\n",
      "5.72149978173e+29\n",
      "[606531133052818.5, 15068555998272.529, 12269570099782.141, 14839380943247098.0, 3742428581615.7686, 1772000491940.6453, 2042103051326.438, 1887517558957.218, 1861326609883.3164, 7562947712107.6201]\n",
      "8.5040824825e+38\n",
      "[-2.3383627048381526e+19, -5.8093884528685952e+17, -4.7302939287344282e+17, -5.7210345808410293e+20, -1.4428205207534061e+17, -68316031813897304.0, -78729310076146416.0, -72769566140279184.0, -71759825200190208.0, -2.9157473323051328e+17]\n",
      "1.26399408596e+48\n",
      "[9.0151024138989402e+23, 2.2396966799248242e+22, 1.8236727829809003e+22, 2.2056335637538685e+25, 5.5625137762744129e+21, 2.6337916784559129e+21, 3.035255359878582e+21, 2.8054890287813875e+21, 2.76656043157511e+21, 1.1241096498690988e+22]\n",
      "1.87872242846e+57\n",
      "[-3.4755973213940226e+28, -8.6347147531906801e+26, -7.0308155677250206e+26, -8.5033910367350978e+29, -2.1445189520232436e+26, -1.0154071337712363e+26, -1.1701836445337076e+26, -1.0816017063322333e+26, -1.0665935431451828e+26, -4.3337860277823619e+26]\n",
      "2.79241651714e+66\n",
      "[1.3399489196991791e+33, 3.3289462603244792e+31, 2.710594137757787e+31, 3.2783169567189168e+34, 8.2677755427818447e+30, 3.9147046281123495e+30, 4.5114153492145256e+30, 4.1699049225972184e+30, 4.1120438696916648e+30, 1.6708068769615767e+31]\n",
      "4.15047475192e+75\n",
      "[-5.1659123349849233e+37, -1.2834104566144915e+36, -1.0450168275462632e+36, -1.2638913137454936e+39, -3.1874799875902775e+35, -1.5092381977313201e+35, -1.7392884055595057e+35, -1.6076257056273019e+35, -1.5853185025298055e+35, -6.4414708114479355e+35]\n",
      "6.16900829823e+84\n",
      "[1.9916169833355018e+42, 4.9479392917170944e+40, 4.0288590410595826e+40, 4.8726870343863257e+43, 1.2288708877877906e+40, 5.8185742064264647e+39, 6.7054880199412889e+39, 6.1978880990503612e+39, 6.1118870180044952e+39, 2.4833837343422615e+40]\n",
      "9.16923139119e+93\n",
      "[-7.6782917539036747e+46, -1.90758171778491e+45, -1.5532482104465417e+45, -1.8785696742162817e+48, -4.7376725963195838e+44, -2.2432380684893386e+44, -2.5851704318762467e+44, -2.3894751591671581e+44, -2.3563191157639033e+44, -9.5742027752966452e+44]\n",
      "1.36285769512e+103\n",
      "[2.9602159828606758e+51, 7.3543101390082335e+49, 5.9882462470587655e+49, 7.2424598501420451e+52, 1.8265174847069505e+49, 8.648367887723995e+48, 9.9666215821614975e+48, 9.2121565362752079e+48, 9.0843298623788529e+48, 3.6911475868539569e+49]\n",
      "2.02566716654e+112\n",
      "[-1.1412536728275155e+56, -2.8353111752152903e+54, -2.3086518223062558e+54, -2.7921894727062724e+57, -7.0417827617127407e+53, -3.3342099606834982e+53, -3.8424370222242472e+53, -3.551567704031584e+53, -3.5022866171398871e+53, -1.4230501304079221e+54]\n",
      "3.01082606371e+121\n",
      "[4.399881472444558e+60, 1.0930990546157207e+59, 8.9005578874714068e+58, 1.0764743212679073e+62, 2.7148223260020139e+58, 1.2854397738677515e+58, 1.4813768284515874e+58, 1.3692378225066834e+58, 1.3502384583583518e+58, 5.486292883184376e+58]\n",
      "4.47510515826e+130\n",
      "[-1.6962886895774943e+65, -4.2142307117703007e+63, -3.4314369080172403e+63, -4.1501372871593218e+66, -1.046646923252478e+63, -4.9557629295260376e+62, -5.7111601183849173e+62, -5.2788300007758212e+62, -5.2055816491649491e+62, -2.1151334697851723e+63]\n",
      "6.65151880372e+139\n",
      "[6.5397109817821139e+69, 1.6247146511595381e+68, 1.322923731587355e+68, 1.600004678419411e+71, 4.0351435578737277e+67, 1.9105979691111728e+67, 2.2018266568894431e+67, 2.0351501922490077e+67, 2.0069107155390391e+67, 8.1544855337886636e+67]\n",
      "9.88640508582e+148\n",
      "[-2.5212583204745645e+74, -6.2637712034127855e+72, -5.1002750349510873e+72, -6.1685067115364687e+75, -1.5556710836212052e+72, -7.3659387090997386e+71, -8.4887142480605756e+71, -7.846125570254103e+71, -7.7372537625867697e+71, -3.1438032290001192e+72]\n",
      "1.46945394586e+158\n",
      "[9.7202208725590788e+78, 2.4148751081121768e+77, 1.9663117994665485e+77, 2.3781477369090711e+80, 5.9975871631452573e+76, 2.839794344147385e+76, 3.2726586064238372e+76, 3.0249210450735627e+76, 2.982947638035997e+76, 1.2120321633680784e+77]\n",
      "2.18410522355e+167\n",
      "[-3.7474420230589109e+83, -9.3100810971551288e+81, -7.5807325413353108e+81, -9.1684858638291468e+84, -2.3122530307494928e+81, -1.0948274531647743e+81, -1.2617098468884165e+81, -1.16619945054392e+81, -1.1500174201717939e+81, -4.672754170768907e+81]\n",
      "3.24631856683e+176\n",
      "[1.444753354919455e+88, 3.5893206130798686e+86, 2.9226039267450222e+86, 3.5347313260063025e+89, 8.9144416459074739e+85, 4.2208942160674076e+85, 4.8642768133848654e+85, 4.4960550645243924e+85, 4.4336683950958002e+85, 1.8014894489072478e+86]\n",
      "4.82512661189e+185\n",
      "[-5.569965442313154e+92, -1.3837927220007534e+91, -1.1267530764409281e+91, -1.3627468845583325e+94, -3.4367895209345244e+90, -1.6272836355839872e+90, -1.8753272771537755e+90, -1.7333665466749538e+90, -1.7093145801856531e+90, -6.9452920395983682e+90]\n",
      "7.17176898738e+194\n",
      "[2.1473917968712639e+97, 5.334943583708344e+95, 4.3439772445767349e+95, 5.2538054525112992e+98, 1.3249873273474072e+95, 6.2736754229927599e+94, 7.2299594191674984e+94, 6.6826574452768381e+94, 6.5899297684668771e+94, 2.6776222055903984e+95]\n",
      "1.06596726979e+204\n",
      "[-8.2788512371002663e+101, -2.0567836923003664e+100, -1.6747359022977334e+100, -2.0255024645888992e+103, -5.1082308268731232e+99, -2.4186934872566656e+99, -2.7873701747752307e+99, -2.5763685480476919e+99, -2.5406191965325173e+99, -1.0323051406612105e+100]\n",
      "1.58438764864e+213\n",
      "[3.1917500060258224e+106, 7.9295293202935483e+104, 6.4566184041286174e+104, 7.8089306334985204e+107, 1.9693790002396828e+104, 9.3248021149731752e+103, 1.0746163347236505e+104, 9.9326876317156569e+103, 9.7948629629951325e+103, 3.979851605692046e+104]\n",
      "2.35493555227e+222\n",
      "[-1.2305171103103461e+111, -3.0570757380457036e+109, -2.489223593961092e+109, -3.0105812609400151e+112, -7.5925575371055642e+108, -3.5949960150606298e+108, -4.1429741815617057e+108, -3.8293544479107191e+108, -3.7762188286538015e+108, -1.5343543473186854e+109]\n",
      "3.50023017416e+231\n",
      "[4.7440192869361899e+115, 1.178596066758941e+114, 9.5967172177473817e+113, 1.1606710257922405e+117, 2.9271628237755462e+113, 1.3859807628034575e+113, 1.5972430824347057e+113, 1.4763330964834463e+113, 1.4558476923825196e+113, 5.9154046341041247e+113]\n",
      "5.20252507984e+240\n",
      "[-1.8289643277813898e+120, -4.5438478062295258e+118, -3.6998275920587584e+118, -4.474741298605503e+121, -1.1285106704848278e+118, -5.3433791492780226e+117, -6.1578599155639489e+117, -5.691714991182288e+117, -5.6127375016852356e+117, -2.2805691557709503e+118]\n",
      "7.73271066748e+249\n",
      "[7.0512160890837936e+124, 1.7517921082965658e+123, 1.4263965375206108e+123, 1.7251494389444523e+126, 4.3507533064234124e+122, 2.0600358604679955e+122, 2.374043071885358e+122, 2.1943299664563499e+122, 2.1638817321109278e+122, 8.7922906309206316e+122]\n",
      "1.14934216269e+259\n",
      "[-2.7184591618178851e+129, -6.7536936128954324e+127, -5.4991943046693036e+127, -6.6509779852923257e+130, -1.6773482810952955e+127, -7.9420674218626513e+126, -9.1526611265087508e+126, -8.4598122167886856e+126, -8.3424249738340511e+126, -3.3896965738994154e+127]\n",
      "1.70831091933e+268\n",
      "[1.0480490345363741e+134, 2.6037551602637265e+132, 2.1201073618050872e+132, 2.5641551486640505e+135, 6.4666899222705222e+131, 3.0619095591414862e+131, 3.5286304064473963e+131, 3.2615159906376267e+131, 3.2162596232168926e+131, 1.3068315579443402e+132]\n",
      "2.53912741728e+277\n",
      "[-4.040549125108424e+138, -1.0038271386275506e+137, -8.1736614066602361e+136, -9.8856012468538914e+139, -2.4931064718108656e+136, -1.1804596524267757e+136, -1.3603947937330197e+136, -1.2574140281831091e+136, -1.2399663163145206e+136, -5.0382347906574272e+136]\n",
      "3.77400154048e+286\n",
      "[1.5577550948879619e+143, 3.8700602100510542e+141, 3.1511961136649752e+141, 3.8112012084258989e+144, 9.6116868977736094e+140, 4.5510324981586208e+140, 5.2447374240000203e+140, 4.8477151202394369e+140, 4.7804488620753256e+140, 1.9423933904473404e+141]\n",
      "5.60944186203e+295\n",
      "[-6.005621663080974e+147, -1.4920264110310588e+146, -1.2148823462011584e+146, -1.4693344682226309e+149, -3.7055988609154541e+145, -1.7545620264713503e+145, -2.022006462640486e+145, -1.8689422386160821e+145, -1.8430090416359857e+145, -7.4885197693639052e+145]\n",
      "8.33752653942e+304\n",
      "[2.3153505758658142e+152, 5.7522175118429316e+150, 4.6837424960982567e+150, 5.6647331417035529e+153, 1.4286215379319709e+150, 6.7643724934524867e+149, 7.7954524782323571e+149, 7.2053431454750397e+149, 7.1053627505543509e+149, 2.8870530867714245e+150]\n",
      "inf\n",
      "[-8.9263836283885447e+156, -2.2176555360496046e+155, -1.8057257839290676e+155, -2.1839276393979281e+158, -5.5077723608186197e+154, -2.6078721948747119e+154, -3.0053850204327342e+154, -2.7778798494322503e+154, -2.7393343535716031e+154, -1.1130471418311299e+155]\n",
      "inf\n",
      "[3.4413935199151011e+161, 8.54973941170699e+159, 6.9616244049763547e+159, 8.4197080688815336e+162, 2.1234144644431415e+159, 1.0054143812132777e+159, 1.1586677163721963e+159, 1.0709575244487535e+159, 1.0560970585311917e+159, 4.2911366805654229e+159]\n",
      "inf\n"
     ]
    },
    {
     "name": "stderr",
     "output_type": "stream",
     "text": [
      "/Users/piotr/anaconda2/lib/python2.7/site-packages/ipykernel/__main__.py:4: RuntimeWarning: overflow encountered in double_scalars\n"
     ]
    },
    {
     "name": "stdout",
     "output_type": "stream",
     "text": [
      "[-1.3267623095705619e+166, -3.2961856708507618e+164, -2.6839188312695719e+164, -3.2460546167515144e+167, -8.1864112973910115e+163, -3.8761795149974409e+163, -4.4670179289369635e+163, -4.1288683504717411e+163, -4.0715767156500274e+163, -1.6543642510056175e+164]\n",
      "inf\n",
      "[5.1150739254615596e+170, 1.270780248792715e+169, 1.034732682173176e+169, 1.2514531963260251e+172, 3.1561115859510867e+168, 1.4943855899847737e+168, 1.7221718440487219e+168, 1.5918048537267617e+168, 1.5697171786918507e+168, 6.3780794664521111e+168]\n",
      "inf\n",
      "[-1.9720172237486398e+175, -4.8992459830239623e+173, -3.9892105196446503e+173, -4.8247342928626782e+176, -1.2167774108966683e+173, -5.7613128672540699e+172, -6.6394984475470396e+172, -6.1368938829414925e+172, -6.0517391496255382e+172, -2.4589444347368146e+173]\n",
      "inf\n",
      "[7.6027286945034354e+179, 1.8888089600841476e+178, 1.5379624944890018e+178, 1.86008242777789e+181, 4.6910485492934249e+177, 2.2211620733525352e+177, 2.5597294362531914e+177, 2.3659600259611625e+177, 2.3331302754570915e+177, 9.4799818110239791e+177]\n",
      "inf\n",
      "[-2.9310841156016972e+184, -7.2819354244632805e+182, -5.9293151434523267e+182, -7.1711858687148766e+185, -1.8085424905785617e+182, -8.5632581839825425e+181, -9.8685387738012043e+181, -9.1214985157329498e+181, -8.9949298006198951e+181, -3.6548225274136589e+182]\n",
      "inf\n",
      "[1.1300224482485902e+189, 2.8074085122770105e+187, 2.2859320819818917e+187, 2.7647111760036821e+190, 6.9724836693936289e+186, 3.3013975704556982e+186, 3.8046231039390527e+186, 3.5166162682194106e+186, 3.4678201628594746e+186, 1.4090457105473632e+187]\n",
      "inf\n",
      "[-4.3565816714325319e+193, -1.0823417258449972e+192, -8.812966349418122e+191, -1.0658805986421114e+195, -2.6881054093679856e+191, -1.2727895952731687e+191, -1.4667984080333334e+191, -1.35576297650822e+191, -1.3369505875527736e+191, -5.432301567367493e+191]\n",
      "inf\n",
      "[1.6795952938172571e+198, 4.1727579238369818e+196, 3.3976676948616152e+196, 4.1092952508835682e+199, 1.036346735897316e+196, 4.9069926274042336e+195, 5.6549558551058688e+195, 5.226880353940695e+195, 5.1543528488046838e+195, 2.094318168525548e+196]\n",
      "inf\n",
      "[-6.4753528426002394e+202, -1.6087256247420939e+201, -1.3099046685306406e+201, -1.5842588260304877e+204, -3.9954331897183275e+200, -1.8917955280921127e+200, -2.1801581967949217e+200, -2.0151220167388587e+200, -1.9871604483611678e+200, -8.0742361899870558e+200]\n",
      "inf\n",
      "[2.4964462921824045e+207, 6.2021286231771111e+205, 5.0500825705624312e+205, 6.1078016414513705e+208, 1.5403615238562845e+205, 7.2934495562968142e+204, 8.4051757163771897e+204, 7.7689108366220612e+204, 7.661110450454902e+204, 3.1128646559750948e+205]\n",
      "inf\n",
      "[-9.624562925359667e+211, -2.3911100107328469e+210, -1.9469610714576887e+210, -2.3547440783263883e+213, -5.9385641343789452e+209, -2.8118475617654645e+209, -3.2404519510114348e+209, -2.9951524069525e+209, -2.9535920656267956e+209, -1.2001043985356194e+210]\n",
      "inf\n",
      "[3.7105629628117691e+216, 9.2184593883801729e+214, 7.5061295747279292e+214, 9.0782576120065324e+217, 2.2894978504684016e+214, 1.0840531150010236e+214, 1.2492931975656267e+214, 1.1547227313492937e+214, 1.1386999504250148e+214, 4.6267689943409578e+214]\n",
      "inf\n",
      "[-1.430535350827469e+221, -3.5539976460208563e+219, -2.8938422045810116e+219, -3.4999455791616224e+222, -8.8267134759968728e+218, -4.1793558517289299e+218, -4.8164068379307383e+218, -4.4518088067894398e+218, -4.3900360926205478e+218, -1.7837607589069661e+219]\n",
      "inf\n",
      "[5.5151506940508516e+225, 1.3701746393592601e+224, 1.1156645541011493e+224, 1.3493359167173394e+227, 3.4029676320248646e+223, 1.6112693274595077e+223, 1.85687193956304e+223, 1.7163082629411802e+223, 1.6924929949560235e+223, 6.8769425249197489e+223]\n",
      "inf\n",
      "[-2.1262590372545098e+230, -5.2824417158667534e+228, -4.3012276042809814e+228, -5.2021020754829976e+231, -1.3119479561786822e+228, -6.2119353740548738e+227, -7.1588084560936988e+227, -6.6168925515122644e+227, -6.5250774197286513e+227, -2.6512713801389481e+228]\n",
      "inf\n",
      "[8.1973779943732468e+234, 2.0365426187261938e+233, 1.6582546102967249e+233, 2.0055692336108966e+236, 5.0579600685101193e+232, 2.3948908127157286e+232, 2.7599393054051144e+232, 2.5510141728985529e+232, 2.5156166353621421e+232, 1.0221460926381529e+233]\n",
      "inf\n",
      "[-3.1603395825845167e+239, -7.8514937996009932e+237, -6.3930779897196748e+237, -7.7320819400360204e+240, -1.9499980875124434e+237, -9.2330355347633304e+236, -1.0640408967830559e+237, -9.8349387717380802e+236, -9.6984704533573359e+236, -3.9406853727689281e+237]\n",
      "inf\n",
      "[1.2184074327310691e+244, 3.0269906614441869e+242, 2.4647268235439838e+242, 2.9809537424839725e+245, 7.5178381991897654e+241, 3.55961719563878e+241, 4.1022026383319451e+241, 3.7916692769265697e+241, 3.7390565721515273e+241, 1.5192545683048821e+242]\n",
      "inf\n",
      "[-4.6973327813091525e+248, -1.1669973508653807e+247, -9.5022746859429269e+246, -1.1492487125385806e+250, -2.8983562369179071e+246, -1.3723411473702375e+246, -1.5815244072680217e+246, -1.4618043120819679e+246, -1.4415205074847494e+246, -5.8571903742049738e+246]\n",
      "inf\n",
      "[1.8109652539547393e+253, 4.4991312139597329e+251, 3.663417111567798e+251, 4.4307047923897343e+254, 1.1174048514353888e+251, 5.2907942659477364e+250, 6.0972596219710956e+250, 5.635702089907822e+250, 5.557501828070438e+250, 2.2581257805897083e+251]\n",
      "inf\n",
      "[-6.9818241621734191e+257, -1.734552496234574e+256, -1.412359185236077e+256, -1.7081720208275933e+259, -4.3079369820291292e+255, -2.0397627818874583e+255, -2.3506798078405375e+255, -2.1727352822592056e+255, -2.1425866929148098e+255, -8.7057645649020161e+255]\n",
      "inf\n",
      "[2.6917064546135614e+262, 6.6872296430439627e+260, 5.4450760242997228e+260, 6.5855248531790746e+263, 1.6608412803376255e+260, 7.8639085120955415e+259, 9.0625886079669773e+259, 8.3765581137224558e+259, 8.2603260937648744e+259, 3.3563381327549861e+260]\n",
      "inf\n",
      "[-1.0377350488232389e+267, -2.5781312699317826e+265, -2.0992431118326206e+265, -2.5389209671533745e+268, -6.4030503927526404e+264, -3.03177691228316e+264, -3.4939046995389121e+264, -3.2294189911442048e+264, -3.1846079974718585e+264, -1.2939708600438128e+265]\n",
      "inf\n",
      "[4.0007855600687213e+271, 9.9394834629524184e+269, 8.0932233506206305e+269, 9.7883157700623491e+272, 2.4685714894920722e+269, 1.1688425967463163e+269, 1.3470069731211805e+269, 1.2450396545662183e+269, 1.2277636478803159e+269, 4.98865287231403e+269]\n",
      "inf\n",
      "[-1.5424250260993934e+276, -3.8319744484119616e+274, -3.1201847863085212e+274, -3.7736946858126987e+277, -9.5170970474174117e+273, -4.5062452004089694e+273, -5.193123286609776e+273, -4.8000081305434727e+273, -4.7334038483011162e+273, -1.9232780465863342e+274]\n",
      "inf\n",
      "[5.9465195657645993e+280, 1.4773431866971896e+279, 1.2029265323518566e+279, 1.4548745582244628e+282, 3.669131584623374e+278, 1.7372951552873731e+278, 2.0021076362685292e+278, 1.8505497370130587e+278, 1.8248717519689821e+278, 7.4148242805379456e+278]\n",
      "inf\n",
      "[-2.2925649122437487e+285, -5.6956091974597857e+283, -4.6376491821436027e+283, -5.6089857722895903e+286, -1.4145622891314375e+283, -6.6978034313602307e+282, -7.7187364250340716e+282, -7.1344344343253476e+282, -7.0354379593652941e+282, -2.8586412250084926e+283]\n",
      "inf\n",
      "[8.8385379358882193e+289, 2.1958313019138573e+288, 1.7879554036094868e+288, 2.1624353258429281e+291, 5.4535696626921857e+287, 2.5822077882741996e+287, 2.9758086388496708e+287, 2.7505423755777741e+287, 2.7123762109130076e+287, 1.1020935013614658e+288]\n",
      "inf\n",
      "[-3.4075263224577008e+294, -8.4656003235178727e+292, -6.8931141613836933e+292, -8.3368486359069838e+295, -2.1025176688471047e+292, -9.9551996862198005e+291, -1.1472651179449005e+292, -1.0604180933319404e+292, -1.0457038711759905e+292, -4.248907051074812e+292]\n",
      "inf\n",
      "[1.3137054705728618e+299, 3.2637474825630966e+297, 2.657506039912749e+297, 3.2141097746325202e+300, 8.1058477680324023e+296, 3.8380335324891757e+296, 4.4230574293981646e+296, 4.0882356245449252e+296, 4.0315078040902502e+296, 1.6380834390522508e+297]\n",
      "inf\n",
      "[-5.0647358232828037e+303, -1.2582743364749965e+302, -1.0245497444010252e+302, -inf, -3.1250518847979266e+301, -1.4796791486665625e+301, -1.7052237288272448e+301, -1.5761396968701467e+301, -1.5542693894938472e+301, -6.315311963857803e+301]\n",
      "inf\n",
      "[inf, inf, inf, nan, nan, nan, nan, nan, nan, inf]\n",
      "nan\n",
      "[nan, nan, nan, nan, nan, nan, nan, nan, nan, nan]\n",
      "nan\n",
      "[nan, nan, nan, nan, nan, nan, nan, nan, nan, nan]\n",
      "nan\n"
     ]
    },
    {
     "name": "stderr",
     "output_type": "stream",
     "text": [
      "/Users/piotr/anaconda2/lib/python2.7/site-packages/ipykernel/__main__.py:38: RuntimeWarning: overflow encountered in double_scalars\n",
      "/Users/piotr/anaconda2/lib/python2.7/site-packages/ipykernel/__main__.py:38: RuntimeWarning: invalid value encountered in double_scalars\n"
     ]
    },
    {
     "name": "stdout",
     "output_type": "stream",
     "text": [
      "[nan, nan, nan, nan, nan, nan, nan, nan, nan, nan]\n",
      "nan\n",
      "[nan, nan, nan, nan, nan, nan, nan, nan, nan, nan]\n",
      "nan\n",
      "[nan, nan, nan, nan, nan, nan, nan, nan, nan, nan]\n",
      "nan\n",
      "[nan, nan, nan, nan, nan, nan, nan, nan, nan, nan]\n",
      "nan\n",
      "[nan, nan, nan, nan, nan, nan, nan, nan, nan, nan]\n",
      "nan\n",
      "[nan, nan, nan, nan, nan, nan, nan, nan, nan, nan]\n",
      "nan\n",
      "[nan, nan, nan, nan, nan, nan, nan, nan, nan, nan]\n",
      "nan\n",
      "[nan, nan, nan, nan, nan, nan, nan, nan, nan, nan]\n",
      "nan\n",
      "[nan, nan, nan, nan, nan, nan, nan, nan, nan, nan]\n",
      "nan\n",
      "[nan, nan, nan, nan, nan, nan, nan, nan, nan, nan]\n",
      "nan\n",
      "[nan, nan, nan, nan, nan, nan, nan, nan, nan, nan]\n",
      "nan\n",
      "[nan, nan, nan, nan, nan, nan, nan, nan, nan, nan]\n",
      "nan\n",
      "[nan, nan, nan, nan, nan, nan, nan, nan, nan, nan]\n",
      "nan\n",
      "[nan, nan, nan, nan, nan, nan, nan, nan, nan, nan]\n",
      "nan\n",
      "[nan, nan, nan, nan, nan, nan, nan, nan, nan, nan]\n",
      "nan\n",
      "[nan, nan, nan, nan, nan, nan, nan, nan, nan, nan]\n",
      "nan\n",
      "[nan, nan, nan, nan, nan, nan, nan, nan, nan, nan]\n",
      "nan\n",
      "[nan, nan, nan, nan, nan, nan, nan, nan, nan, nan]\n",
      "nan\n",
      "[nan, nan, nan, nan, nan, nan, nan, nan, nan, nan]\n",
      "nan\n",
      "[nan, nan, nan, nan, nan, nan, nan, nan, nan, nan]\n",
      "nan\n",
      "[nan, nan, nan, nan, nan, nan, nan, nan, nan, nan]\n",
      "nan\n",
      "[nan, nan, nan, nan, nan, nan, nan, nan, nan, nan]\n",
      "nan\n",
      "[nan, nan, nan, nan, nan, nan, nan, nan, nan, nan]\n",
      "nan\n",
      "[nan, nan, nan, nan, nan, nan, nan, nan, nan, nan]\n",
      "nan\n",
      "[nan, nan, nan, nan, nan, nan, nan, nan, nan, nan]\n",
      "nan\n",
      "[nan, nan, nan, nan, nan, nan, nan, nan, nan, nan]\n",
      "nan\n",
      "[nan, nan, nan, nan, nan, nan, nan, nan, nan, nan]\n",
      "nan\n",
      "[nan, nan, nan, nan, nan, nan, nan, nan, nan, nan]\n",
      "nan\n",
      "[nan, nan, nan, nan, nan, nan, nan, nan, nan, nan]\n",
      "nan\n",
      "[nan, nan, nan, nan, nan, nan, nan, nan, nan, nan]\n",
      "nan\n"
     ]
    }
   ],
   "source": [
    "# \n",
    "a = 0\n",
    "b = 0\n",
    "\n",
    "# we have data prices\n",
    "# linear regression: we may have more than one dimension\n",
    "# each district will be a binary dimension\n",
    "# take all districts and find unique values\n",
    "\n",
    "districts = set(m['dzielnica'] for m in data)\n",
    "\n",
    "# now we want to make our data into a matrix, or list of lists with schema\n",
    "# m2,ilość_sypialni,ilość_łazienek,rok_budowy,parking_podziemny,'grodziskowo', 'ochotowo', 'wolowo', 'mokotowo'\n",
    "\n",
    "matrix = [\n",
    "    [\n",
    "        int(m['m2']), \n",
    "        int(m['ilość_sypialni']), \n",
    "        int(m['ilość_łazienek']), \n",
    "        int(m['rok_budowy']),  # TODO maybe scale\n",
    "        int(m['parking_podziemny']),\n",
    "        1 if m['dzielnica'] == 'grodziskowo' else 0,\n",
    "        1 if m['dzielnica'] == 'ochotowo' else 0,\n",
    "        1 if m['dzielnica'] == 'wolowo' else 0,\n",
    "        1 if m['dzielnica'] == 'mokotowo' else 0,\n",
    "        1  # for the constant\n",
    "    ] for m in data]\n",
    "\n",
    "# pprint(matrix)\n",
    "\n",
    "parameters = [0 for _ in xrange(len(matrix[0]))]\n",
    "alfa = 0.01\n",
    "\n",
    "\"\"\"\n",
    "Update the i-th parameter.\n",
    "\"\"\"\n",
    "def update(i):\n",
    "    return parameters[i] - alfa / len(matrix) * sum((dot(parameters, vector) - price) * vector[i] for (vector, price) in zip(matrix, prices))\n",
    "\n",
    "# print update(0) / len(matrix)\n",
    "\n",
    "msle_log = []\n",
    "for _ in xrange(100):\n",
    "    error = msle(prices, [dot(parameters, vector) for vector in matrix])\n",
    "    print parameters\n",
    "    print error\n",
    "    msle_log.append(error)\n",
    "#     print [dot(parameters, vector) for vector in matrix[:5]]\n",
    "    parameters = [update(i) for i in xrange(len(parameters))]\n",
    "    \n",
    "    \n",
    "    # Now want happens is we get an error\n",
    "    # notebooks suck when it comes to debugging\n",
    "    # but are potentially nice for plotting\n",
    "    # maybe I can use iPython and plot from pycharm too\n",
    "    # somehow we get predicted price which is negative\n",
    "    # p price must be positive\n",
    "    # how do we debug that?\n",
    "    \n",
    "#     There is an error in the update function\n",
    "# No idea how to debug it though\n",
    "# No use thinking now, try later\n",
    "# Maybe write corrent code in Pycharm for a change\n",
    "\n",
    "# Another idea: compute the slope numerically"
   ]
  },
  {
   "cell_type": "markdown",
   "metadata": {},
   "source": [
    "Note that the loss function that the algorithms optimizes (i.e $MSE$) differs from $MSLE$. We've already seen that this may result in a suboptimal solution.\n",
    "\n",
    "How can you change the setting so that we optimze $MSLE$ instead?"
   ]
  },
  {
   "cell_type": "markdown",
   "metadata": {
    "deletable": true,
    "editable": true
   },
   "source": [
    "Hint: \n",
    "Be lazy. We don't want to change algorithm."
   ]
  },
  {
   "cell_type": "code",
   "execution_count": null,
   "metadata": {
    "collapsed": false,
    "deletable": true,
    "editable": true
   },
   "outputs": [],
   "source": [
    "#############################################\n",
    "# TODO: Optimize msle and compare the error #\n",
    "#############################################"
   ]
  },
  {
   "cell_type": "markdown",
   "metadata": {
    "deletable": true,
    "editable": true
   },
   "source": [
    "Without any feature engineering our model approximates the price as a linear combination of original features:\n",
    "$$\n",
    "\\text{price} \\approx w_1 \\cdot \\text{area} + w_2 \\cdot \\text{district} + \\dots.\n",
    "$$\n",
    "Let's now introduce some interactions between the variables. For instance, let's consider a following formula:\n",
    "$$\n",
    "\\text{price} \\approx w_1 \\cdot \\text{area} \\cdot \\text{avg. price in the district per sq. meter} + w_2 \\cdot \\dots + \\dots.\n",
    "$$\n",
    "Here, we model the price with far greater granularity, and we may expect to see more acurate results."
   ]
  },
  {
   "cell_type": "markdown",
   "metadata": {
    "collapsed": false,
    "deletable": true,
    "editable": true
   },
   "source": [
    "Add some feature engineering to your model. Be sure to play with the data and not with the algorithm's code. \n",
    "\n",
    "Think how to make sure that your model is capable of capturing the $w_1 \\cdot \\text{area} \\cdot \\text{avg. price...}$ part, without actually computing the averages."
   ]
  },
  {
   "cell_type": "markdown",
   "metadata": {
    "collapsed": false,
    "deletable": true,
    "editable": true
   },
   "source": [
    "Hint: \n",
    "<sub><sup><sub><sup><sub><sup>\n",
    "Is having a binary encoding for each district and multiplying it by area enough?\n",
    "</sup></sub></sup></sub></sup></sub>"
   ]
  },
  {
   "cell_type": "markdown",
   "metadata": {
    "collapsed": false,
    "deletable": true,
    "editable": true
   },
   "source": [
    "Hint 2: \n",
    "<sub><sup><sub><sup><sub><sup>\n",
    "Why not multiply everything together? I.e. (A,B,C) -> (AB,AC,BC).\n",
    "</sup></sub></sup></sub></sup></sub>"
   ]
  },
  {
   "cell_type": "code",
   "execution_count": null,
   "metadata": {
    "collapsed": false,
    "deletable": true,
    "editable": true
   },
   "outputs": [],
   "source": [
    "###############################################\n",
    "# TODO: Implement the feature engieering part #\n",
    "###############################################"
   ]
  },
  {
   "cell_type": "code",
   "execution_count": null,
   "metadata": {
    "collapsed": true
   },
   "outputs": [],
   "source": [
    "##############################################################\n",
    "# TODO: Test your solution on the training and test datasets #\n",
    "##############################################################"
   ]
  }
 ],
 "metadata": {
  "kernelspec": {
   "display_name": "Python 2",
   "language": "python",
   "name": "python2"
  },
  "language_info": {
   "codemirror_mode": {
    "name": "ipython",
    "version": 2.0
   },
   "file_extension": ".py",
   "mimetype": "text/x-python",
   "name": "python",
   "nbconvert_exporter": "python",
   "pygments_lexer": "ipython2",
   "version": "2.7.13"
  }
 },
 "nbformat": 4,
 "nbformat_minor": 0
}