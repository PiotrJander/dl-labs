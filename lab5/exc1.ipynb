{
 "cells": [
  {
   "cell_type": "code",
   "execution_count": 2,
   "metadata": {
    "collapsed": false
   },
   "outputs": [],
   "source": [
    "%matplotlib inline\n",
    "import tensorflow as tf\n",
    "import numpy as np\n",
    "import matplotlib.pyplot as plt\n",
    "import seaborn"
   ]
  },
  {
   "cell_type": "markdown",
   "metadata": {},
   "source": [
    "Example: Create a graph that will compute elementwise sum of two input vectors"
   ]
  },
  {
   "cell_type": "code",
   "execution_count": 2,
   "metadata": {
    "collapsed": false
   },
   "outputs": [
    {
     "name": "stdout",
     "output_type": "stream",
     "text": [
      "[ 1.  2.]\n"
     ]
    }
   ],
   "source": [
    "tf.reset_default_graph()\n",
    "a_value = [0.0, 1.0]\n",
    "b_value = [1.0, 1.0]\n",
    "a = tf.placeholder(dtype=tf.float32, name='a')\n",
    "b = tf.placeholder(dtype=tf.float32, name='b')\n",
    "c = a + b\n",
    "with tf.Session() as sess:\n",
    "    print sess.run(c, feed_dict={a: a_value, b: b_value })"
   ]
  },
  {
   "cell_type": "markdown",
   "metadata": {},
   "source": [
    "Task 1. Create a graph that will compute dot product of two input vectors"
   ]
  },
  {
   "cell_type": "code",
   "execution_count": 8,
   "metadata": {
    "collapsed": false
   },
   "outputs": [
    {
     "name": "stdout",
     "output_type": "stream",
     "text": [
      "12.0\n"
     ]
    }
   ],
   "source": [
    "tf.reset_default_graph()\n",
    "a_value = [3.0, 1.0]\n",
    "b_value = [3.0, 3.0]\n",
    "a = tf.placeholder(dtype=tf.float32)\n",
    "b = tf.placeholder(dtype=tf.float32)\n",
    "c = tf.reduce_sum(a * b)\n",
    "with tf.Session() as sess:\n",
    "    print sess.run(c, feed_dict={a: a_value, b: b_value})"
   ]
  },
  {
   "cell_type": "markdown",
   "metadata": {
    "collapsed": true
   },
   "source": [
    "Task 2. Create a graph that given matrix $A$, returns a vector with sums over the second dimension."
   ]
  },
  {
   "cell_type": "code",
   "execution_count": 9,
   "metadata": {
    "collapsed": false
   },
   "outputs": [
    {
     "name": "stdout",
     "output_type": "stream",
     "text": [
      "[  6.  18.   6.]\n"
     ]
    }
   ],
   "source": [
    "# TODO tensor dimensions; rows / cols\n",
    "\n",
    "tf.reset_default_graph()\n",
    "a_value = [\n",
    "\n",
    "    [3.0, 1.0, 2.0],\n",
    "    [1.0, 13.0, 4.0],\n",
    "    [3.0, 1.0, 2.0]\n",
    "    ]\n",
    "    \n",
    "a = tf.placeholder(dtype=tf.float32)\n",
    "s = tf.reduce_sum(a_value, 1)\n",
    "with tf.Session() as sess:\n",
    "    print sess.run(s, feed_dict={a: a_value})"
   ]
  },
  {
   "cell_type": "markdown",
   "metadata": {
    "collapsed": false
   },
   "source": [
    "Task 3. Apply relu, sigmoid, tanh to x"
   ]
  },
  {
   "cell_type": "code",
   "execution_count": 10,
   "metadata": {
    "collapsed": false
   },
   "outputs": [
    {
     "data": {
      "image/png": "[encoded data removed]",
      "text/plain": [
       "<matplotlib.figure.Figure at 0x112b23f90>"
      ]
     },
     "metadata": {},
     "output_type": "display_data"
    }
   ],
   "source": [
    "x_value = np.linspace(-10., 10., 1000)\n",
    "\n",
    "x = tf.placeholder(dtype=tf.float32)\n",
    "relu = tf.nn.relu(x_value)\n",
    "sigmoid = tf.sigmoid(x_value)\n",
    "tanh = tf.tanh(x_value)\n",
    "\n",
    "with tf.Session() as sess:\n",
    "    feed_dict = {x: x_value}\n",
    "    _relu, _sigmoid, _tanh = sess.run([relu, sigmoid, tanh], feed_dict)\n",
    "    plt.plot(x_value, _relu, label='relu')\n",
    "    plt.plot(x_value, _sigmoid, label='sigmoid')\n",
    "    plt.plot(x_value, _tanh, label='tanh')\n",
    "    plt.legend(bbox_to_anchor=(0.5, 1.0))\n",
    "    plt.show()"
   ]
  },
  {
   "cell_type": "markdown",
   "metadata": {
    "collapsed": true
   },
   "source": [
    "Task 4. Create operation to decrease variable $a$ by one"
   ]
  },
  {
   "cell_type": "code",
   "execution_count": 19,
   "metadata": {
    "collapsed": false
   },
   "outputs": [
    {
     "name": "stdout",
     "output_type": "stream",
     "text": [
      "9\n8\n7\n6\n5\n4\n3\n2\n1\n0\n"
     ]
    }
   ],
   "source": [
    "a = tf.Variable(10, dtype=tf.int32, name='a')\n",
    "c = tf.constant(1, tf.int32)\n",
    "\n",
    "# decrese_op = tf.subtract(a, c)\n",
    "decrese_op = a - c\n",
    "\n",
    "with tf.Session() as sess:\n",
    "    sess.run(tf.global_variables_initializer())\n",
    "    for _ in xrange(10):\n",
    "        new_a = sess.run(decrese_op)\n",
    "        ass_a = tf.assign(a, new_a)\n",
    "        sess.run(ass_a)\n",
    "        a_value = sess.run(a)\n",
    "        print a_value"
   ]
  },
  {
   "cell_type": "markdown",
   "metadata": {},
   "source": [
    "Task 5. Create operation that returns the shape of the input."
   ]
  },
  {
   "cell_type": "code",
   "execution_count": 20,
   "metadata": {
    "collapsed": false
   },
   "outputs": [
    {
     "name": "stdout",
     "output_type": "stream",
     "text": [
      "[3 4]\n"
     ]
    }
   ],
   "source": [
    "tf.reset_default_graph()\n",
    "a_value = [\n",
    "    [3, 7, 2, 1],\n",
    "    [1, 1, 4, 5],\n",
    "    [3, 6, 2, 2],\n",
    "    ]\n",
    "a = tf.placeholder(dtype=tf.int32)\n",
    "\n",
    "sh = tf.shape(a)\n",
    "\n",
    "with tf.Session() as sess:\n",
    "    print sess.run(sh, {a: a_value})"
   ]
  },
  {
   "cell_type": "markdown",
   "metadata": {
    "collapsed": true
   },
   "source": [
    "Task 6. Create operation to get the first half of r-th row and second half of c-th column of the matrix. (Assume matrix has even dimensions)."
   ]
  },
  {
   "cell_type": "code",
   "execution_count": 24,
   "metadata": {
    "collapsed": false
   },
   "outputs": [
    {
     "name": "stdout",
     "output_type": "stream",
     "text": [
      "[[3 6]] [[6]\n [1]]\n"
     ]
    }
   ],
   "source": [
    "tf.reset_default_graph()\n",
    "a_value = [\n",
    "    [3, 7, 2, 1],\n",
    "    [1, 1, 4, 5],\n",
    "    [3, 6, 2, 2],\n",
    "    [6, 1, 1, 3],\n",
    "    ]\n",
    "\n",
    "r_value = 2\n",
    "c_value = 1\n",
    "    \n",
    "a = tf.placeholder(dtype=tf.int32)\n",
    "r = tf.placeholder(dtype=tf.int32)\n",
    "c = tf.placeholder(dtype=tf.int32)\n",
    "\n",
    "r_slice = tf.slice(a, [r, 0], [1, tf.shape(a)[1] / 2])\n",
    "c_slice = tf.slice(a, [tf.shape(a)[0] / 2, c], [-1, 1])\n",
    "\n",
    "# TODO how to flatten?\n",
    "\n",
    "with tf.Session() as sess:\n",
    "    r_s, c_s = sess.run([r_slice, c_slice], {a: a_value, r: r_value, c: c_value})\n",
    "    print r_s, c_s"
   ]
  },
  {
   "cell_type": "markdown",
   "metadata": {},
   "source": [
    "Task 7. Create operation that returns coordinates of the maximal element in the matrix. "
   ]
  },
  {
   "cell_type": "code",
   "execution_count": 31,
   "metadata": {
    "collapsed": false
   },
   "outputs": [
    {
     "name": "stdout",
     "output_type": "stream",
     "text": [
      "[2, 3]\n"
     ]
    }
   ],
   "source": [
    "tf.reset_default_graph()\n",
    "a_value = [\n",
    "    [3, 7, 2, 1],\n",
    "    [1, 1, 14, 5],\n",
    "    [3, 6, 2, 17],\n",
    "    [6, 9, 1, 3],\n",
    "    ]\n",
    "\n",
    "a = tf.placeholder(dtype=tf.int32)\n",
    "\n",
    "# here we want create two lists (vectors) from the array\n",
    "# for each (row) vector (0-dim)\n",
    "#   1. max value\n",
    "#   2. max arg (index)\n",
    "\n",
    "row_max = tf.reduce_max(a, 0)\n",
    "row_argmax = tf.argmax(a, 0)\n",
    "\n",
    "# now we select the row which has the max value\n",
    "\n",
    "col = tf.argmax(row_max, 0)\n",
    "row = tf.reshape(tf.slice(row_argmax, [col], [1]), [])\n",
    "# column = row_argmax[row]\n",
    "\n",
    "with tf.Session() as sess:\n",
    "    coors = [r, s] = sess.run([row, col], {a: a_value})\n",
    "    print coors"
   ]
  },
  {
   "cell_type": "code",
   "execution_count": null,
   "metadata": {
    "collapsed": true
   },
   "outputs": [],
   "source": [
    ""
   ]
  },
  {
   "cell_type": "code",
   "execution_count": null,
   "metadata": {
    "collapsed": true
   },
   "outputs": [],
   "source": [
    ""
   ]
  }
 ],
 "metadata": {
  "kernelspec": {
   "display_name": "Python 2",
   "language": "python",
   "name": "python2"
  },
  "language_info": {
   "codemirror_mode": {
    "name": "ipython",
    "version": 2.0
   },
   "file_extension": ".py",
   "mimetype": "text/x-python",
   "name": "python",
   "nbconvert_exporter": "python",
   "pygments_lexer": "ipython2",
   "version": "2.7.12"
  }
 },
 "nbformat": 4,
 "nbformat_minor": 0
}